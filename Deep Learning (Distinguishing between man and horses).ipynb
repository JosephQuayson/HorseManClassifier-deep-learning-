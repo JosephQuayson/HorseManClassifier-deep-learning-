{
 "cells": [
  {
   "cell_type": "code",
   "execution_count": 19,
   "metadata": {},
   "outputs": [],
   "source": [
    "import urllib.request\n",
    "import zipfile \n",
    "import tensorflow as tf\n",
    "import matplotlib.pyplot as plt"
   ]
  },
  {
   "cell_type": "markdown",
   "metadata": {},
   "source": [
    "## Working with the training data"
   ]
  },
  {
   "cell_type": "code",
   "execution_count": 20,
   "metadata": {},
   "outputs": [],
   "source": [
    "#linking files using their directories \n",
    "file_name =  \"horse-or-human.zip\"\n",
    "training_dir = r'horseandman\\training'\n",
    "valid_dir =r'horseandman\\validation'\n",
    "\n",
    "#training_dir = 'horse-or-human/training/'\n",
    "\n",
    "#urllib.request.urlretrieve(url, file_name)\n",
    "#zip_ref = zipfile.ZipFile(file_name, 'r')\n",
    "#file_name.extractall(training_dir)\n",
    "#zip_ref.close()\n"
   ]
  },
  {
   "cell_type": "code",
   "execution_count": 6,
   "metadata": {},
   "outputs": [],
   "source": [
    "##Importing Image Generator \n",
    "from tensorflow.keras.preprocessing.image import ImageDataGenerator"
   ]
  },
  {
   "cell_type": "code",
   "execution_count": 21,
   "metadata": {},
   "outputs": [
    {
     "name": "stdout",
     "output_type": "stream",
     "text": [
      "Found 1027 images belonging to 2 classes.\n"
     ]
    }
   ],
   "source": [
    "# Creating an Image generator instance for the training data \n",
    "train_datagen = ImageDataGenerator(rescale = 1/255,\n",
    "                                  rotation_range = 0.10,\n",
    "                                  width_shift_range = 0.20,\n",
    "                                  height_shift_range= 0.20,\n",
    "                                  horizontal_flip =True,\n",
    "                                  zoom_range = 0.20)\n",
    "\n",
    "#flowing the data from the training directory or folder\n",
    "train_gen = train_datagen.flow_from_directory(\n",
    "             training_dir,\n",
    "    \n",
    "             # the images are 300x300 pixels each\n",
    "             target_size = (300,300),\n",
    "    \n",
    "             # since we have two categories of images we will use binary.\n",
    "             # note! we use 'categorical' if categories are more than two  \n",
    "             class_mode = 'binary'\n",
    "             )"
   ]
  },
  {
   "cell_type": "code",
   "execution_count": 8,
   "metadata": {},
   "outputs": [
    {
     "name": "stdout",
     "output_type": "stream",
     "text": [
      "Found 256 images belonging to 2 classes.\n"
     ]
    }
   ],
   "source": [
    "# Validation data\n",
    "valid_datagen = ImageDataGenerator(rescale= 1/255)\n",
    "valid_gen =  valid_datagen.flow_from_directory(valid_dir, \n",
    "                                                   target_size = (300,300),\n",
    "                                                   class_mode = 'binary'\n",
    "                                                  )"
   ]
  },
  {
   "cell_type": "code",
   "execution_count": 9,
   "metadata": {},
   "outputs": [],
   "source": [
    "#Creating the Architecture for the classifcation\n",
    "model = tf.keras.models.Sequential([\n",
    "    \n",
    "        #create filters 'Conv2D' note# More filters more definite image features become\n",
    "        # the model has input shape 'input_shape = (300,300,3)' because the images are \n",
    "        # of size 300x300 and is a colored image so it needs a channel of 3 (RGB)\n",
    "        # for each each Conv2D we create an immediate MaxPooling2D to further slice\n",
    "        # the images to smaller units so more features can be learned \n",
    "    \n",
    "    \n",
    "        tf.keras.layers.Conv2D(16,(3,3), activation ='relu', \n",
    "                               input_shape = (300,300,3)),  \n",
    "        tf.keras.layers.MaxPooling2D(2,2),\n",
    "    \n",
    "        tf.keras.layers.Conv2D(32,(3,3), activation ='relu'),\n",
    "        #tf.keras.layers.Dropout(0.2),\n",
    "        tf.keras.layers.MaxPooling2D(2,2),\n",
    "    \n",
    "        tf.keras.layers.Conv2D(64,(3,3), activation ='relu'),\n",
    "        #tf.keras.layers.Dropout(0.2),\n",
    "        tf.keras.layers.MaxPooling2D(2,2),\n",
    "        \n",
    "    \n",
    "        tf.keras.layers.Conv2D(64,(3,3), activation ='relu'),\n",
    "        tf.keras.layers.MaxPooling2D(2,2),\n",
    "     \n",
    "        tf.keras.layers.Conv2D(64,(3,3), activation ='relu'),\n",
    "        tf.keras.layers.MaxPooling2D(2,2),\n",
    "    \n",
    "        tf.keras.layers.Flatten(),\n",
    "        tf.keras.layers.Dense(512,activation='relu'),\n",
    "        tf.keras.layers.Dense(1,activation='sigmoid')\n",
    "])"
   ]
  },
  {
   "cell_type": "code",
   "execution_count": 10,
   "metadata": {},
   "outputs": [],
   "source": [
    "from tensorflow.keras.optimizers import RMSprop"
   ]
  },
  {
   "cell_type": "code",
   "execution_count": 11,
   "metadata": {},
   "outputs": [],
   "source": [
    "# compiling the model \n",
    "model.compile(\n",
    "            loss = 'binary_crossentropy',\n",
    "            # RMSprop is Root Mean Sqr Propagation \n",
    "            optimizer = RMSprop(learning_rate=0.001),\n",
    "            #optimizer = 'adam',\n",
    "            metrics = ['accuracy']\n",
    ")"
   ]
  },
  {
   "cell_type": "code",
   "execution_count": 594,
   "metadata": {},
   "outputs": [
    {
     "name": "stdout",
     "output_type": "stream",
     "text": [
      "Epoch 1/20\n",
      "33/33 [==============================] - 90s 3s/step - loss: 0.7419 - accuracy: 0.5725 - val_loss: 0.8474 - val_accuracy: 0.5195\n",
      "Epoch 2/20\n",
      "33/33 [==============================] - 84s 3s/step - loss: 0.6072 - accuracy: 0.6913 - val_loss: 0.6202 - val_accuracy: 0.5195\n",
      "Epoch 3/20\n",
      "33/33 [==============================] - 84s 3s/step - loss: 0.5026 - accuracy: 0.7546 - val_loss: 1.5519 - val_accuracy: 0.6719\n",
      "Epoch 4/20\n",
      "33/33 [==============================] - 83s 2s/step - loss: 0.4505 - accuracy: 0.8101 - val_loss: 0.3238 - val_accuracy: 0.8984\n",
      "Epoch 5/20\n",
      "33/33 [==============================] - 83s 3s/step - loss: 0.3754 - accuracy: 0.8588 - val_loss: 1.0601 - val_accuracy: 0.7109\n",
      "Epoch 6/20\n",
      "33/33 [==============================] - 86s 3s/step - loss: 0.2734 - accuracy: 0.8929 - val_loss: 1.3411 - val_accuracy: 0.7891\n",
      "Epoch 7/20\n",
      "33/33 [==============================] - 83s 3s/step - loss: 0.2682 - accuracy: 0.9056 - val_loss: 3.8361 - val_accuracy: 0.6445\n",
      "Epoch 8/20\n",
      "33/33 [==============================] - 89s 3s/step - loss: 0.2459 - accuracy: 0.9153 - val_loss: 1.4732 - val_accuracy: 0.8125\n",
      "Epoch 9/20\n",
      "33/33 [==============================] - 82s 2s/step - loss: 0.1393 - accuracy: 0.9426 - val_loss: 1.2483 - val_accuracy: 0.8594\n",
      "Epoch 10/20\n",
      "33/33 [==============================] - 82s 2s/step - loss: 0.3361 - accuracy: 0.9299 - val_loss: 1.1451 - val_accuracy: 0.7852\n",
      "Epoch 11/20\n",
      "33/33 [==============================] - 86s 3s/step - loss: 0.1142 - accuracy: 0.9659 - val_loss: 1.4209 - val_accuracy: 0.5977\n",
      "Epoch 12/20\n",
      "33/33 [==============================] - 83s 2s/step - loss: 0.2872 - accuracy: 0.9357 - val_loss: 1.4480 - val_accuracy: 0.8125\n",
      "Epoch 13/20\n",
      "33/33 [==============================] - 82s 2s/step - loss: 0.0741 - accuracy: 0.9796 - val_loss: 4.5988 - val_accuracy: 0.7617\n",
      "Epoch 14/20\n",
      "33/33 [==============================] - 83s 2s/step - loss: 0.1272 - accuracy: 0.9611 - val_loss: 2.3460 - val_accuracy: 0.7891\n",
      "Epoch 15/20\n",
      "33/33 [==============================] - 82s 2s/step - loss: 0.1104 - accuracy: 0.9581 - val_loss: 1.8974 - val_accuracy: 0.7852\n",
      "Epoch 16/20\n",
      "33/33 [==============================] - 82s 2s/step - loss: 0.1691 - accuracy: 0.9533 - val_loss: 3.4618 - val_accuracy: 0.7422\n",
      "Epoch 17/20\n",
      "33/33 [==============================] - 82s 2s/step - loss: 0.1395 - accuracy: 0.9669 - val_loss: 2.5954 - val_accuracy: 0.7891\n",
      "Epoch 18/20\n",
      "33/33 [==============================] - 83s 2s/step - loss: 0.0887 - accuracy: 0.9688 - val_loss: 1.8512 - val_accuracy: 0.8555\n",
      "Epoch 19/20\n",
      "33/33 [==============================] - 83s 2s/step - loss: 0.0794 - accuracy: 0.9757 - val_loss: 1.6771 - val_accuracy: 0.8438\n",
      "Epoch 20/20\n",
      "33/33 [==============================] - 82s 2s/step - loss: 0.1022 - accuracy: 0.9669 - val_loss: 2.0433 - val_accuracy: 0.8516\n"
     ]
    }
   ],
   "source": [
    "# fitting the model, training the model with the training data \n",
    "history1 = model.fit(train_gen,\n",
    "                     validation_data = valid_gen, \n",
    "                     epochs = 20)"
   ]
  },
  {
   "cell_type": "markdown",
   "metadata": {},
   "source": [
    "## Model Performance during training "
   ]
  },
  {
   "cell_type": "code",
   "execution_count": 595,
   "metadata": {},
   "outputs": [
    {
     "data": {
      "image/png": "[encoded data removed]",
      "text/plain": [
       "<Figure size 432x288 with 1 Axes>"
      ]
     },
     "metadata": {
      "needs_background": "light"
     },
     "output_type": "display_data"
    },
    {
     "data": {
      "text/plain": [
       "<Figure size 1080x1080 with 0 Axes>"
      ]
     },
     "metadata": {},
     "output_type": "display_data"
    }
   ],
   "source": [
    "acc = history1.history['accuracy']\n",
    "val_acc = history1.history['val_accuracy']\n",
    "loss = history1.history['loss']\n",
    "val_loss = history.history['val_loss']\n",
    "\n",
    "epochs = range(len(acc))\n",
    "\n",
    "plt.plot(epochs, acc, 'g', label = 'Training accuracy')\n",
    "\n",
    "plt.plot(epochs, val_acc, 'y', label = 'Validation accuracy')\n",
    "plt.title('Training vrs Validation accuracy')\n",
    "plt.legend(loc=0)\n",
    "plt.figure(figsize= (15,15))\n",
    "plt.show()"
   ]
  },
  {
   "cell_type": "code",
   "execution_count": 596,
   "metadata": {},
   "outputs": [
    {
     "data": {
      "image/png": "[encoded data removed]",
      "text/plain": [
       "<Figure size 432x288 with 1 Axes>"
      ]
     },
     "metadata": {
      "needs_background": "light"
     },
     "output_type": "display_data"
    },
    {
     "data": {
      "text/plain": [
       "<Figure size 1080x1080 with 0 Axes>"
      ]
     },
     "metadata": {},
     "output_type": "display_data"
    }
   ],
   "source": [
    "acc = history1.history['accuracy']\n",
    "val_acc = history1.history['val_accuracy']\n",
    "loss = history1.history['loss']\n",
    "val_loss = history1.history['val_loss']\n",
    "\n",
    "epochs = range(len(acc))\n",
    "\n",
    "\n",
    "plt.plot(epochs, loss, 'g', label = 'Training loss')\n",
    "\n",
    "plt.plot(epochs, val_loss, 'y', label = 'Validation loss')\n",
    "plt.title('Training vrs Validation loss')\n",
    "plt.legend(loc=0)\n",
    "plt.figure(figsize= (15,15))\n",
    "plt.show()"
   ]
  },
  {
   "cell_type": "code",
   "execution_count": null,
   "metadata": {},
   "outputs": [],
   "source": []
  },
  {
   "cell_type": "markdown",
   "metadata": {},
   "source": [
    "## Transfer Learning\n",
    "  **Using Pretrained filters to improve our training**\n"
   ]
  },
  {
   "cell_type": "markdown",
   "metadata": {},
   "source": []
  },
  {
   "cell_type": "code",
   "execution_count": 12,
   "metadata": {},
   "outputs": [],
   "source": [
    "from tensorflow.keras.applications.inception_v3 import InceptionV3"
   ]
  },
  {
   "cell_type": "code",
   "execution_count": 13,
   "metadata": {},
   "outputs": [],
   "source": [
    "import os \n",
    "from os import path"
   ]
  },
  {
   "cell_type": "code",
   "execution_count": 14,
   "metadata": {},
   "outputs": [],
   "source": [
    "current = os.getcwd()"
   ]
  },
  {
   "cell_type": "code",
   "execution_count": 16,
   "metadata": {},
   "outputs": [],
   "source": [
    "local_weights_file = path.join(current,'inception_v3_weights_tf_dim_ordering_tf_kernels_notop.h5')"
   ]
  },
  {
   "cell_type": "code",
   "execution_count": 17,
   "metadata": {},
   "outputs": [],
   "source": [
    "# Creating an instance of the pretrained model \n",
    "pre_trained_model = InceptionV3(input_shape=(150,150,3),\n",
    "                               include_top=False,\n",
    "                               weights= None)"
   ]
  },
  {
   "cell_type": "code",
   "execution_count": 18,
   "metadata": {},
   "outputs": [],
   "source": [
    "#Loading pretrained weights \n",
    "pre_trained_model.load_weights(local_weights_file)"
   ]
  },
  {
   "cell_type": "code",
   "execution_count": 644,
   "metadata": {},
   "outputs": [],
   "source": [
    "#uncomment the code below to know the model summary  \n",
    "#pre_trained_model.summary()\n"
   ]
  },
  {
   "cell_type": "code",
   "execution_count": 787,
   "metadata": {},
   "outputs": [
    {
     "name": "stdout",
     "output_type": "stream",
     "text": [
      "last layer output shape:  (None, 3, 3, 2048)\n"
     ]
    }
   ],
   "source": [
    "#Note we dont have to retrain the whole model.\n",
    "\"\"\"\n",
    "we can customize our model by freezing  the layers we prefer and \n",
    "adding our own layers to train the mode\n",
    "\n",
    "\"\"\"\n",
    "# Freezing the layer \n",
    "for layer in pre_trained_model.layers:\n",
    "    layer.trainable = False \n",
    "    \n",
    "# Getting the preferred layer from the pretrained model \n",
    "last_layer = pre_trained_model.get_layer('mixed10')\n",
    "\n",
    "# Inspecting the output shape of the last layer \n",
    "print('last layer output shape: ', last_layer.output_shape)\n",
    "\n",
    "#We need the output of the last layer to feed as input to our own Densed layers \n",
    "last_output = last_layer.output"
   ]
  },
  {
   "cell_type": "code",
   "execution_count": 795,
   "metadata": {},
   "outputs": [],
   "source": [
    "# adding our Densed layers to the pretrained layers\n",
    "# Using the functional API method  ie x = func (output of the the mixed8 layer)\n",
    "\n",
    "# \n",
    "x = tf.keras.layers.Flatten()(last_output)\n",
    "\n",
    "\n",
    "# adding Densed layers of 1024 neurons \n",
    "x = tf.keras.layers.Dense(1024, activation = 'relu')(x)\n",
    "# adding an output layer \n",
    "x=  tf.keras.layers.Dense(1, activation = 'sigmoid')(x)"
   ]
  },
  {
   "cell_type": "code",
   "execution_count": 796,
   "metadata": {},
   "outputs": [],
   "source": [
    "model3 = tf.keras.Model(pre_trained_model.input,x)\n",
    "model3.compile(  optimizer = RMSprop(learning_rate =0.0001),\n",
    "              loss = 'binary_crossentropy',\n",
    "             metrics=['acc'])"
   ]
  },
  {
   "cell_type": "code",
   "execution_count": null,
   "metadata": {},
   "outputs": [],
   "source": []
  },
  {
   "cell_type": "code",
   "execution_count": 797,
   "metadata": {},
   "outputs": [
    {
     "name": "stdout",
     "output_type": "stream",
     "text": [
      "Found 1027 images belonging to 2 classes.\n"
     ]
    }
   ],
   "source": [
    "# Creating an Image generator instance for the training data \n",
    "train_datagen2 = ImageDataGenerator(rescale = 1/255,\n",
    "                                  rotation_range = 0.10,\n",
    "                                  width_shift_range =0.20,\n",
    "                                  height_shift_range=0.20,\n",
    "                                  horizontal_flip =True,\n",
    "                                  zoom_range = 0.30)\n",
    "\n",
    "#flowing the data from the training directory or folder\n",
    "train_gen2 = train_datagen2.flow_from_directory(\n",
    "    \n",
    "             training_dir,\n",
    "    \n",
    "             # the images are 300x300 pixels each\n",
    "             target_size = (150,150),\n",
    "    \n",
    "             # since we have two categories of images we will use binary.\n",
    "             # note! we use 'categorical' if categories are more than two  \n",
    "             class_mode = 'binary'\n",
    "             )"
   ]
  },
  {
   "cell_type": "code",
   "execution_count": 798,
   "metadata": {},
   "outputs": [
    {
     "name": "stdout",
     "output_type": "stream",
     "text": [
      "Found 256 images belonging to 2 classes.\n"
     ]
    }
   ],
   "source": [
    "valid_datagen2 = ImageDataGenerator(rescale= 1/255)\n",
    "valid_gen2 =  valid_datagen2.flow_from_directory(valid_dir, \n",
    "                                                   target_size = (150,150),\n",
    "                                                   batch_size = 20,\n",
    "                                                 \n",
    "                                                   class_mode = 'binary'\n",
    "                                                  )"
   ]
  },
  {
   "cell_type": "code",
   "execution_count": 747,
   "metadata": {},
   "outputs": [
    {
     "data": {
      "text/plain": [
       "array([1., 0., 0., 0., 0., 0., 0., 1., 0., 0., 0., 0., 0., 1., 1., 1., 0.,\n",
       "       1., 0., 1., 0., 0., 0., 0., 0., 0., 0., 1., 0., 1., 0., 0.],\n",
       "      dtype=float32)"
      ]
     },
     "execution_count": 747,
     "metadata": {},
     "output_type": "execute_result"
    }
   ],
   "source": [
    "train_gen2[0][1]"
   ]
  },
  {
   "cell_type": "code",
   "execution_count": 748,
   "metadata": {},
   "outputs": [
    {
     "data": {
      "text/plain": [
       "array([1., 1., 1., 1., 0., 1., 0., 1., 0., 1., 1., 1., 1., 0., 1., 0., 1.,\n",
       "       1., 1., 0.], dtype=float32)"
      ]
     },
     "execution_count": 748,
     "metadata": {},
     "output_type": "execute_result"
    }
   ],
   "source": [
    "valid_gen2[0][1]"
   ]
  },
  {
   "cell_type": "code",
   "execution_count": 799,
   "metadata": {
    "scrolled": true
   },
   "outputs": [
    {
     "name": "stdout",
     "output_type": "stream",
     "text": [
      "Epoch 1/10\n",
      "10/10 [==============================] - 26s 2s/step - loss: 3.4216 - acc: 0.7698 - val_loss: 0.0148 - val_acc: 0.9950\n",
      "Epoch 2/10\n",
      "10/10 [==============================] - 20s 2s/step - loss: 0.1896 - acc: 0.9812 - val_loss: 0.0133 - val_acc: 0.9900\n",
      "Epoch 3/10\n",
      "10/10 [==============================] - 20s 2s/step - loss: 0.0820 - acc: 0.9863 - val_loss: 0.0053 - val_acc: 0.9950\n",
      "Epoch 4/10\n",
      "10/10 [==============================] - 19s 2s/step - loss: 0.1164 - acc: 0.9656 - val_loss: 7.5277e-05 - val_acc: 1.0000\n",
      "Epoch 5/10\n",
      "10/10 [==============================] - 20s 2s/step - loss: 0.0845 - acc: 0.9897 - val_loss: 0.0044 - val_acc: 1.0000\n",
      "Epoch 6/10\n",
      "10/10 [==============================] - 21s 2s/step - loss: 0.2338 - acc: 0.9588 - val_loss: 0.3222 - val_acc: 0.9350\n",
      "Epoch 7/10\n",
      "10/10 [==============================] - 21s 2s/step - loss: 0.1563 - acc: 0.9863 - val_loss: 4.2055e-04 - val_acc: 1.0000\n",
      "Epoch 8/10\n",
      "10/10 [==============================] - 24s 2s/step - loss: 0.0023 - acc: 1.0000 - val_loss: 9.5267e-04 - val_acc: 1.0000\n",
      "Epoch 9/10\n",
      "10/10 [==============================] - 20s 2s/step - loss: 0.0868 - acc: 0.9750 - val_loss: 0.3562 - val_acc: 0.9400\n",
      "Epoch 10/10\n",
      "10/10 [==============================] - 20s 2s/step - loss: 0.2046 - acc: 0.9622 - val_loss: 2.1136e-04 - val_acc: 1.0000\n"
     ]
    }
   ],
   "source": [
    "# fitting the model\n",
    "history = model3.fit(\n",
    "    train_gen2,\n",
    "    validation_data = valid_gen2 ,\n",
    "    steps_per_epoch =10,\n",
    "    epochs=10,\n",
    "     validation_steps = 10,\n",
    "    )"
   ]
  },
  {
   "cell_type": "code",
   "execution_count": null,
   "metadata": {},
   "outputs": [],
   "source": []
  },
  {
   "cell_type": "markdown",
   "metadata": {},
   "source": [
    "## Evaluating the model "
   ]
  },
  {
   "cell_type": "code",
   "execution_count": 800,
   "metadata": {},
   "outputs": [
    {
     "data": {
      "image/png": "[encoded data removed]",
      "text/plain": [
       "<Figure size 432x288 with 1 Axes>"
      ]
     },
     "metadata": {
      "needs_background": "light"
     },
     "output_type": "display_data"
    },
    {
     "data": {
      "text/plain": [
       "<Figure size 1080x1080 with 0 Axes>"
      ]
     },
     "metadata": {},
     "output_type": "display_data"
    }
   ],
   "source": [
    "acc = history.history['acc']\n",
    "val_acc = history.history['val_acc']\n",
    "loss = history.history['loss']\n",
    "val_loss = history.history['val_loss']\n",
    "\n",
    "epochs = range(len(acc))\n",
    "\n",
    "plt.plot(epochs, acc, 'g', label = 'Training accuracy')\n",
    "\n",
    "plt.plot(epochs, val_acc, 'y', label = 'Validation accuracy')\n",
    "plt.title('Training and Validation accuracy')\n",
    "plt.legend(loc=0)\n",
    "plt.figure(figsize= (15,15))\n",
    "plt.show()"
   ]
  },
  {
   "cell_type": "code",
   "execution_count": 801,
   "metadata": {},
   "outputs": [
    {
     "data": {
      "image/png": "[encoded data removed]",
      "text/plain": [
       "<Figure size 432x288 with 1 Axes>"
      ]
     },
     "metadata": {
      "needs_background": "light"
     },
     "output_type": "display_data"
    },
    {
     "data": {
      "text/plain": [
       "<Figure size 1080x1080 with 0 Axes>"
      ]
     },
     "metadata": {},
     "output_type": "display_data"
    }
   ],
   "source": [
    "acc = history.history['acc']\n",
    "val_acc = history.history['val_acc']\n",
    "loss = history.history['loss']\n",
    "val_loss = history.history['val_loss']\n",
    "\n",
    "epochs = range(len(acc))\n",
    "\n",
    "plt.plot(epochs, loss, 'g', label = 'Training loss')\n",
    "\n",
    "plt.plot(epochs, val_loss , 'y', label = 'Validation loss')\n",
    "plt.title('Training and Validation loss')\n",
    "plt.legend(loc=0)\n",
    "plt.figure(figsize= (15,15))\n",
    "plt.show()"
   ]
  },
  {
   "cell_type": "code",
   "execution_count": 804,
   "metadata": {},
   "outputs": [],
   "source": [
    "model3.save(\"horseman.h5\")"
   ]
  }
 ],
 "metadata": {
  "kernelspec": {
   "display_name": "Python 3",
   "language": "python",
   "name": "python3"
  },
  "language_info": {
   "codemirror_mode": {
    "name": "ipython",
    "version": 3
   },
   "file_extension": ".py",
   "mimetype": "text/x-python",
   "name": "python",
   "nbconvert_exporter": "python",
   "pygments_lexer": "ipython3",
   "version": "3.7.6"
  }
 },
 "nbformat": 4,
 "nbformat_minor": 4
}
